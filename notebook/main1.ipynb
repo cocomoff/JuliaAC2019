{
 "cells": [
  {
   "cell_type": "code",
   "execution_count": 1,
   "metadata": {},
   "outputs": [],
   "source": [
    "using JuMP\n",
    "using Cbc"
   ]
  },
  {
   "cell_type": "code",
   "execution_count": 42,
   "metadata": {},
   "outputs": [
    {
     "data": {
      "text/latex": [
       "$$ \\begin{alignat*}{1}\\min\\quad & 50 x₁ + 65 x₂\\\\\n",
       "\\text{Subject to} \\quad & 3 x₁ + 2 x₂ \\geq 9.0\\\\\n",
       " & 0.06666666666666667 x₁ + 0.13333333333333333 x₂ \\geq 0.3333333333333333\\\\\n",
       " & 0.16666666666666666 x₁ \\geq 0.25\\\\\n",
       " & 3 x₂ - x₁ \\geq 0.0\\\\\n",
       " & x₂ - 2 x₁ \\leq 0.0\\\\\n",
       " & x₁ \\geq 0.0\\\\\n",
       " & x₂ \\geq 0.0\\\\\n",
       "\\end{alignat*}\n",
       " $$"
      ],
      "text/plain": [
       "A JuMP Model\n",
       "Minimization problem with:\n",
       "Variables: 2\n",
       "Objective function type: GenericAffExpr{Float64,VariableRef}\n",
       "`GenericAffExpr{Float64,VariableRef}`-in-`MathOptInterface.GreaterThan{Float64}`: 4 constraints\n",
       "`GenericAffExpr{Float64,VariableRef}`-in-`MathOptInterface.LessThan{Float64}`: 1 constraint\n",
       "`VariableRef`-in-`MathOptInterface.GreaterThan{Float64}`: 2 constraints\n",
       "Model mode: AUTOMATIC\n",
       "CachingOptimizer state: EMPTY_OPTIMIZER\n",
       "Solver name: COIN Branch-and-Cut (Cbc)\n",
       "Names registered in the model: x₁, x₂"
      ]
     },
     "execution_count": 42,
     "metadata": {},
     "output_type": "execute_result"
    }
   ],
   "source": [
    "model = Model(with_optimizer(Cbc.Optimizer))\n",
    "\n",
    "@variable(model, x₁ ≥ 0)\n",
    "@variable(model, x₂ ≥ 0)\n",
    "\n",
    "@objective(model, Min, 50x₁ + 65x₂)\n",
    "@constraint(model, 3x₁ + 2x₂ ≥ 9)\n",
    "@constraint(model, x₁/15 + 2x₂/15 ≥ 1/3)\n",
    "@constraint(model, x₁/6 ≥ 1/4)\n",
    "@constraint(model, 3x₂ ≥ x₁)\n",
    "@constraint(model, x₂ ≤ 2x₁)\n",
    "\n",
    "model"
   ]
  },
  {
   "cell_type": "code",
   "execution_count": 43,
   "metadata": {},
   "outputs": [
    {
     "name": "stdout",
     "output_type": "stream",
     "text": [
      "Welcome to the CBC MILP Solver \n",
      "Version: 2.10.3 \n",
      "Build Date: Oct  7 2019 \n",
      "\n",
      "command line - Cbc_C_Interface -solve -quit (default strategy 1)\n",
      "Presolve 4 (-1) rows, 2 (0) columns and 8 (-1) elements\n",
      "0  Obj 101 Primal inf 2.6833303 (3)\n",
      "2  Obj 197.5\n",
      "Optimal - objective value 197.5\n",
      "After Postsolve, objective 197.5, infeasibilities - dual 0 (0), primal 0 (0)\n",
      "Optimal objective 197.5 - 2 iterations time 0.002, Presolve 0.00\n",
      "Total time (CPU seconds):       0.00   (Wallclock seconds):       0.00\n",
      "\n"
     ]
    }
   ],
   "source": [
    "optimize!(model)"
   ]
  },
  {
   "cell_type": "code",
   "execution_count": 44,
   "metadata": {},
   "outputs": [
    {
     "data": {
      "text/plain": [
       "197.5"
      ]
     },
     "execution_count": 44,
     "metadata": {},
     "output_type": "execute_result"
    }
   ],
   "source": [
    "objective_value(model)"
   ]
  },
  {
   "cell_type": "code",
   "execution_count": 45,
   "metadata": {},
   "outputs": [
    {
     "data": {
      "text/plain": [
       "2.0"
      ]
     },
     "execution_count": 45,
     "metadata": {},
     "output_type": "execute_result"
    }
   ],
   "source": [
    "value(x₁)"
   ]
  },
  {
   "cell_type": "code",
   "execution_count": 46,
   "metadata": {},
   "outputs": [
    {
     "data": {
      "text/plain": [
       "1.5"
      ]
     },
     "execution_count": 46,
     "metadata": {},
     "output_type": "execute_result"
    }
   ],
   "source": [
    "value(x₂)"
   ]
  },
  {
   "cell_type": "code",
   "execution_count": null,
   "metadata": {},
   "outputs": [],
   "source": []
  }
 ],
 "metadata": {
  "kernelspec": {
   "display_name": "Julia 1.3.0 1.3.0",
   "language": "julia",
   "name": "julia-1.3.0-1.3"
  },
  "language_info": {
   "file_extension": ".jl",
   "mimetype": "application/julia",
   "name": "julia",
   "version": "1.3.0"
  }
 },
 "nbformat": 4,
 "nbformat_minor": 4
}
