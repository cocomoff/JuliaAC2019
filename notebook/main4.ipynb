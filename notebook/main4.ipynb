{
 "cells": [
  {
   "cell_type": "code",
   "execution_count": 1,
   "metadata": {},
   "outputs": [],
   "source": [
    "using JuMP\n",
    "using Cbc"
   ]
  },
  {
   "cell_type": "code",
   "execution_count": 2,
   "metadata": {},
   "outputs": [
    {
     "data": {
      "text/plain": [
       "3"
      ]
     },
     "execution_count": 2,
     "metadata": {},
     "output_type": "execute_result"
    }
   ],
   "source": [
    "# 割当問題のモデル\n",
    "# http://dopal.cs.uec.ac.jp/okamotoy/lect/2013/opt/lect02.pdf\n",
    "\n",
    "C = [[3, 4, 2], [2, 2, 3]]\n",
    "Nc = 2\n",
    "Nt = 3"
   ]
  },
  {
   "cell_type": "code",
   "execution_count": 3,
   "metadata": {},
   "outputs": [
    {
     "data": {
      "text/latex": [
       "$$ \\begin{alignat*}{1}\\max\\quad & 3 x_{1,1} + 4 x_{1,2} + 2 x_{1,3} + 2 x_{2,1} + 2 x_{2,2} + 3 x_{2,3}\\\\\n",
       "\\text{Subject to} \\quad & x_{1,1} + x_{1,2} + x_{1,3} \\leq 1.0\\\\\n",
       " & x_{2,1} + x_{2,2} + x_{2,3} \\leq 1.0\\\\\n",
       " & x_{1,1} + x_{2,1} \\leq 1.0\\\\\n",
       " & x_{1,2} + x_{2,2} \\leq 1.0\\\\\n",
       " & x_{1,3} + x_{2,3} \\leq 1.0\\\\\n",
       " & x_{1,1} binary\\\\\n",
       " & x_{1,2} binary\\\\\n",
       " & x_{1,3} binary\\\\\n",
       " & x_{2,1} binary\\\\\n",
       " & x_{2,2} binary\\\\\n",
       " & x_{2,3} binary\\\\\n",
       "\\end{alignat*}\n",
       " $$"
      ],
      "text/plain": [
       "A JuMP Model\n",
       "Maximization problem with:\n",
       "Variables: 6\n",
       "Objective function type: GenericAffExpr{Float64,VariableRef}\n",
       "`GenericAffExpr{Float64,VariableRef}`-in-`MathOptInterface.LessThan{Float64}`: 5 constraints\n",
       "`VariableRef`-in-`MathOptInterface.ZeroOne`: 6 constraints\n",
       "Model mode: AUTOMATIC\n",
       "CachingOptimizer state: EMPTY_OPTIMIZER\n",
       "Solver name: COIN Branch-and-Cut (Cbc)\n",
       "Names registered in the model: x"
      ]
     },
     "execution_count": 3,
     "metadata": {},
     "output_type": "execute_result"
    }
   ],
   "source": [
    "model = Model(with_optimizer(Cbc.Optimizer, logLevel=0))\n",
    "\n",
    "\n",
    "@variable(model, x[i=1:Nc, j=1:Nt], Bin)\n",
    "\n",
    "for customer in 1:Nc\n",
    "    @constraint(model, sum(x[customer, :]) <= 1)\n",
    "end\n",
    "\n",
    "for taxi in 1:Nt\n",
    "    @constraint(model, sum(x[:, taxi]) <= 1)\n",
    "end\n",
    "\n",
    "@objective(model, Max, sum(C[i][j] * x[i, j] for i in 1:Nc, j in 1:Nt))\n",
    "\n",
    "\n",
    "model"
   ]
  },
  {
   "cell_type": "code",
   "execution_count": 4,
   "metadata": {},
   "outputs": [],
   "source": [
    "optimize!(model)"
   ]
  },
  {
   "cell_type": "code",
   "execution_count": 5,
   "metadata": {},
   "outputs": [
    {
     "name": "stdout",
     "output_type": "stream",
     "text": [
      "Customer 1 -> Taxi 2\n",
      "Customer 2 -> Taxi 3\n"
     ]
    }
   ],
   "source": [
    "for f in 1:Nc, s in 1:Nt\n",
    "    if value(x[f, s]) > 0\n",
    "        println(\"Customer $f -> Taxi $s\")\n",
    "    end\n",
    "end"
   ]
  },
  {
   "cell_type": "code",
   "execution_count": null,
   "metadata": {},
   "outputs": [],
   "source": []
  }
 ],
 "metadata": {
  "kernelspec": {
   "display_name": "Julia 1.3.0 1.3.0",
   "language": "julia",
   "name": "julia-1.3.0-1.3"
  },
  "language_info": {
   "file_extension": ".jl",
   "mimetype": "application/julia",
   "name": "julia",
   "version": "1.3.0"
  }
 },
 "nbformat": 4,
 "nbformat_minor": 4
}
