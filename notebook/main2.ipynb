{
 "cells": [
  {
   "cell_type": "code",
   "execution_count": 1,
   "metadata": {},
   "outputs": [],
   "source": [
    "using JuMP\n",
    "using Cbc"
   ]
  },
  {
   "cell_type": "code",
   "execution_count": 23,
   "metadata": {},
   "outputs": [],
   "source": [
    "# 例題インスタンスの定数\n",
    "Nf = 2;\n",
    "Ns = 3;\n",
    "C = [[3.4, 2.2, 2.9], [3.4, 2.4, 2.5]];\n",
    "Supply = [250, 450];\n",
    "Demand = [200, 200, 200];"
   ]
  },
  {
   "cell_type": "code",
   "execution_count": 32,
   "metadata": {},
   "outputs": [
    {
     "data": {
      "text/latex": [
       "$$ \\begin{alignat*}{1}\\min\\quad & 3.4 x_{1,1} + 2.2 x_{1,2} + 2.9 x_{1,3} + 3.4 x_{2,1} + 2.4 x_{2,2} + 2.5 x_{2,3}\\\\\n",
       "\\text{Subject to} \\quad & x_{1,1} + x_{2,1} = 200.0\\\\\n",
       " & x_{1,2} + x_{2,2} = 200.0\\\\\n",
       " & x_{1,3} + x_{2,3} = 200.0\\\\\n",
       " & x_{1,1} + x_{1,2} + x_{1,3} \\leq 250.0\\\\\n",
       " & x_{2,1} + x_{2,2} + x_{2,3} \\leq 450.0\\\\\n",
       " & x_{1,1} \\geq 0.0\\\\\n",
       " & x_{1,2} \\geq 0.0\\\\\n",
       " & x_{1,3} \\geq 0.0\\\\\n",
       " & x_{2,1} \\geq 0.0\\\\\n",
       " & x_{2,2} \\geq 0.0\\\\\n",
       " & x_{2,3} \\geq 0.0\\\\\n",
       "\\end{alignat*}\n",
       " $$"
      ],
      "text/plain": [
       "A JuMP Model\n",
       "Minimization problem with:\n",
       "Variables: 6\n",
       "Objective function type: GenericAffExpr{Float64,VariableRef}\n",
       "`GenericAffExpr{Float64,VariableRef}`-in-`MathOptInterface.EqualTo{Float64}`: 3 constraints\n",
       "`GenericAffExpr{Float64,VariableRef}`-in-`MathOptInterface.LessThan{Float64}`: 2 constraints\n",
       "`VariableRef`-in-`MathOptInterface.GreaterThan{Float64}`: 6 constraints\n",
       "Model mode: AUTOMATIC\n",
       "CachingOptimizer state: EMPTY_OPTIMIZER\n",
       "Solver name: COIN Branch-and-Cut (Cbc)\n",
       "Names registered in the model: x"
      ]
     },
     "execution_count": 32,
     "metadata": {},
     "output_type": "execute_result"
    }
   ],
   "source": [
    "model = Model(with_optimizer(Cbc.Optimizer))\n",
    "\n",
    "\n",
    "@variable(model, x[i=1:Nf, j=1:Ns] ≥ 0)\n",
    "\n",
    "for factory in 1:Nf\n",
    "    @constraint(model, sum(x[factory, :]) <= Supply[factory])\n",
    "end\n",
    "\n",
    "for store in 1:Ns\n",
    "    @constraint(model, sum(x[:, store]) == Demand[store])\n",
    "end\n",
    "\n",
    "@objective(model, Min, sum(C[i][j] * x[i, j] for i in 1:Nf, j in 1:Ns))\n",
    "\n",
    "\n",
    "model"
   ]
  },
  {
   "cell_type": "code",
   "execution_count": 33,
   "metadata": {},
   "outputs": [
    {
     "name": "stdout",
     "output_type": "stream",
     "text": [
      "Welcome to the CBC MILP Solver \n",
      "Version: 2.10.3 \n",
      "Build Date: Oct  7 2019 \n",
      "\n",
      "command line - Cbc_C_Interface -solve -quit (default strategy 1)\n",
      "Presolve 2 (-3) rows, 3 (-3) columns and 6 (-6) elements\n",
      "0  Obj 1660 Primal inf 150 (1) Dual inf 0.199999 (1)\n",
      "Optimal - objective value 1620\n",
      "After Postsolve, objective 1620, infeasibilities - dual 0 (0), primal 0 (0)\n",
      "Optimal objective 1620 - 0 iterations time 0.002, Presolve 0.00\n",
      "Total time (CPU seconds):       0.00   (Wallclock seconds):       0.00\n",
      "\n"
     ]
    }
   ],
   "source": [
    "optimize!(model)"
   ]
  },
  {
   "cell_type": "code",
   "execution_count": 34,
   "metadata": {},
   "outputs": [
    {
     "data": {
      "text/plain": [
       "1620.0"
      ]
     },
     "execution_count": 34,
     "metadata": {},
     "output_type": "execute_result"
    }
   ],
   "source": [
    "objective_value(model)"
   ]
  },
  {
   "cell_type": "code",
   "execution_count": 35,
   "metadata": {},
   "outputs": [
    {
     "name": "stdout",
     "output_type": "stream",
     "text": [
      "Factory 1 -> Store 1: 0.0\n",
      "Factory 1 -> Store 2: 200.0\n",
      "Factory 1 -> Store 3: 0.0\n",
      "Factory 2 -> Store 1: 200.0\n",
      "Factory 2 -> Store 2: 0.0\n",
      "Factory 2 -> Store 3: 200.0\n"
     ]
    }
   ],
   "source": [
    "for f in 1:Nf, s in 1:Ns\n",
    "    println(\"Factory $f -> Store $s: $(value(x[f, s]))\")\n",
    "end"
   ]
  },
  {
   "cell_type": "code",
   "execution_count": null,
   "metadata": {},
   "outputs": [],
   "source": []
  }
 ],
 "metadata": {
  "kernelspec": {
   "display_name": "Julia 1.3.0 1.3.0",
   "language": "julia",
   "name": "julia-1.3.0-1.3"
  },
  "language_info": {
   "file_extension": ".jl",
   "mimetype": "application/julia",
   "name": "julia",
   "version": "1.3.0"
  }
 },
 "nbformat": 4,
 "nbformat_minor": 4
}
